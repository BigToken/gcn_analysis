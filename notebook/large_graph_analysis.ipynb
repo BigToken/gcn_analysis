{
 "cells": [
  {
   "cell_type": "code",
   "execution_count": 1,
   "metadata": {},
   "outputs": [],
   "source": [
    "import sys, os\n",
    "import pathlib\n",
    "import torch\n",
    "import numpy as np\n",
    "import tqdm\n",
    "import networkx as nx\n",
    "from matplotlib import pyplot as plt"
   ]
  },
  {
   "cell_type": "code",
   "execution_count": 2,
   "metadata": {},
   "outputs": [],
   "source": [
    "import dgl\n",
    "from dgl.data import register_data_args, load_data"
   ]
  },
  {
   "cell_type": "code",
   "execution_count": 3,
   "metadata": {},
   "outputs": [
    {
     "name": "stdout",
     "output_type": "stream",
     "text": [
      "Finished data loading.\n",
      "  NumNodes: 232965\n",
      "  NumEdges: 114615892\n",
      "  NumFeats: 602\n",
      "  NumClasses: 41\n",
      "  NumTrainingSamples: 153431\n",
      "  NumValidationSamples: 23831\n",
      "  NumTestSamples: 55703\n"
     ]
    }
   ],
   "source": [
    "reddit = dgl.data.RedditDataset()"
   ]
  },
  {
   "cell_type": "code",
   "execution_count": 14,
   "metadata": {},
   "outputs": [],
   "source": [
    "cora = dgl.data.CoraDataset()"
   ]
  },
  {
   "cell_type": "code",
   "execution_count": 4,
   "metadata": {},
   "outputs": [],
   "source": [
    "def statistics_of_subgraph(g:nx.Graph):\n",
    "    return {\n",
    "        'is_connected':nx.is_connected(g),\n",
    "        'number_connected_components': nx.number_connected_components(g)\n",
    "    }\n",
    "    pass"
   ]
  },
  {
   "cell_type": "code",
   "execution_count": 5,
   "metadata": {},
   "outputs": [],
   "source": [
    "dataset = reddit"
   ]
  },
  {
   "cell_type": "code",
   "execution_count": 9,
   "metadata": {},
   "outputs": [
    {
     "name": "stdout",
     "output_type": "stream",
     "text": [
      "1596 [ 124  427  548  826  865  886  895 1526 1950 1981]\n"
     ]
    }
   ],
   "source": [
    "id=20\n",
    "label_nodes = np.where(dataset.labels==id)[0]\n",
    "print(len(label_nodes), label_nodes[:10])"
   ]
  },
  {
   "cell_type": "code",
   "execution_count": 10,
   "metadata": {},
   "outputs": [
    {
     "data": {
      "text/plain": [
       "DGLGraph(num_nodes=1596, num_edges=696284,\n",
       "         ndata_schemes={}\n",
       "         edata_schemes={})"
      ]
     },
     "execution_count": 10,
     "metadata": {},
     "output_type": "execute_result"
    }
   ],
   "source": [
    "sg = dataset.graph.subgraph(label_nodes)\n",
    "sg"
   ]
  },
  {
   "cell_type": "code",
   "execution_count": null,
   "metadata": {},
   "outputs": [],
   "source": [
    "if type(sg) not in (nx.Graph, nx.DiGraph):\n",
    "    nx_label_sg = sg.to_networkx().to_undirected()\n",
    "    print('nx_label_sg done')\n",
    "    nx_graph = dataset.graph.to_networkx().to_undirected()\n",
    "    print('nx_graph done')\n",
    "else:\n",
    "    nx_label_sg = sg.to_undirected()\n",
    "    nx_graph = dataset.graph.to_undirected()\n",
    "\n",
    "statistics_of_subgraph(nx_label_sg)"
   ]
  },
  {
   "cell_type": "code",
   "execution_count": 20,
   "metadata": {},
   "outputs": [
    {
     "name": "stdout",
     "output_type": "stream",
     "text": [
      "[287, 8, 6, 4, 4, 3, 3, 2, 2, 2] 0.8176638176638177\n"
     ]
    },
    {
     "data": {
      "text/plain": [
       "[{1853, 1861, 2005, 2141, 2320, 2345, 2418, 2511},\n",
       " {424, 571, 1762, 2331, 2495, 2694},\n",
       " {903, 1390, 1491, 1605},\n",
       " {1050, 1306, 1310, 1492}]"
      ]
     },
     "execution_count": 20,
     "metadata": {},
     "output_type": "execute_result"
    }
   ],
   "source": [
    "subgraph_cc = sorted(nx.connected_components(nx_label_sg), key=len, reverse=True)\n",
    "# nx.connected_components(nx_label_sg)\n",
    "print(\n",
    "[len(cc) for cc in subgraph_cc][:10],\n",
    "    subgraph_cc[0].__len__() / len(label_nodes)\n",
    ")\n",
    "subgraph_cc[1:5]"
   ]
  },
  {
   "cell_type": "code",
   "execution_count": 23,
   "metadata": {},
   "outputs": [
    {
     "name": "stderr",
     "output_type": "stream",
     "text": [
      "\n",
      "  0%|          | 0/2 [00:00<?, ?it/s]\u001b[A\n",
      "100%|██████████| 2/2 [00:01<00:00,  1.73it/s]\u001b[A"
     ]
    },
    {
     "name": "stdout",
     "output_type": "stream",
     "text": [
      "Node   1-hop   2-hop   3-hop   4-hop   5-hop   6-hop\n",
      "====================================================\n",
      "1853   2       1       4       3       6       10   \n",
      "424    1       5       2       42      96      493  \n"
     ]
    },
    {
     "name": "stderr",
     "output_type": "stream",
     "text": [
      "\n"
     ]
    }
   ],
   "source": [
    "info = statistics(nx_graph, [1853,424], level=6)\n",
    "colors = get_colors(len(dataset.labels), mode='raw')"
   ]
  },
  {
   "cell_type": "code",
   "execution_count": 46,
   "metadata": {},
   "outputs": [],
   "source": [
    "case = 1853\n",
    "hop = 6\n",
    "sub_node = sum([node_list for node_list in info[case][0][:hop]], [])\n",
    "sub_graph = nx_graph.subgraph(sub_node)\n",
    "colors = get_colors(len(dataset.labels), mode='raw')\n",
    "pos = nx.spring_layout(sub_graph, k=0.15)\n",
    "class_node_pos = get_node_pos(dataset.labels, sub_node, mode='raw')\n",
    "labels = dict(zip(sub_node, dataset.labels[sub_node]))\n",
    "labels.update({case: f'{case}:{dataset.labels[case]}'})"
   ]
  },
  {
   "cell_type": "code",
   "execution_count": 47,
   "metadata": {},
   "outputs": [
    {
     "data": {
      "image/png": "[encoded data removed]",
      "text/plain": [
       "<Figure size 1200x900 with 1 Axes>"
      ]
     },
     "metadata": {},
     "output_type": "display_data"
    }
   ],
   "source": [
    "plot_cluster(sub_graph, class_node_pos, colors, pos, labels=labels)"
   ]
  },
  {
   "cell_type": "code",
   "execution_count": 159,
   "metadata": {},
   "outputs": [
    {
     "data": {
      "text/plain": [
       "48"
      ]
     },
     "execution_count": 159,
     "metadata": {},
     "output_type": "execute_result"
    }
   ],
   "source": [
    "sub_graph.number_of_edges()"
   ]
  },
  {
   "cell_type": "code",
   "execution_count": null,
   "metadata": {},
   "outputs": [],
   "source": []
  },
  {
   "cell_type": "code",
   "execution_count": 33,
   "metadata": {},
   "outputs": [
    {
     "data": {
      "image/png": "[encoded data removed]",
      "text/plain": [
       "<Figure size 432x288 with 1 Axes>"
      ]
     },
     "metadata": {},
     "output_type": "display_data"
    }
   ],
   "source": [
    "G = dgl.DGLGraph()\n",
    "G.add_nodes(5)\n",
    "G.add_edges([0, 1, 2, 3, 4], [1, 2, 3, 4, 0])\n",
    "SG = G.subgraph([0,1,3])\n",
    "nx_SG = SG.to_networkx().to_undirected()\n",
    "nx.draw(nx_SG, with_labels=True)\n"
   ]
  },
  {
   "cell_type": "code",
   "execution_count": 35,
   "metadata": {},
   "outputs": [
    {
     "data": {
      "text/plain": [
       "True"
      ]
     },
     "execution_count": 35,
     "metadata": {},
     "output_type": "execute_result"
    }
   ],
   "source": [
    "nx.is_connected(G.to_networkx().to_undirected())"
   ]
  },
  {
   "cell_type": "code",
   "execution_count": null,
   "metadata": {},
   "outputs": [],
   "source": [
    "nx_reddit = reddit.graph.to_networkx().to_undirected()"
   ]
  },
  {
   "cell_type": "code",
   "execution_count": 45,
   "metadata": {},
   "outputs": [
    {
     "data": {
      "text/plain": [
       "154"
      ]
     },
     "execution_count": 45,
     "metadata": {},
     "output_type": "execute_result"
    }
   ],
   "source": [
    "list(nx_reddit.neighbors(1)).__len__()"
   ]
  },
  {
   "cell_type": "code",
   "execution_count": 52,
   "metadata": {},
   "outputs": [],
   "source": [
    "nx_reddit = nx_reddit.to_undirected()"
   ]
  },
  {
   "cell_type": "code",
   "execution_count": 58,
   "metadata": {},
   "outputs": [],
   "source": [
    "degree = nx_reddit.degree"
   ]
  },
  {
   "cell_type": "code",
   "execution_count": 67,
   "metadata": {},
   "outputs": [],
   "source": [
    "np.mean(list(dict(degree).values()))"
   ]
  },
  {
   "cell_type": "code",
   "execution_count": 75,
   "metadata": {},
   "outputs": [
    {
     "data": {
      "text/plain": [
       "(array([     1,      3,      4, ..., 232961, 232962, 232963]),)"
      ]
     },
     "execution_count": 75,
     "metadata": {},
     "output_type": "execute_result"
    }
   ],
   "source": [
    "reddit.train_mask.nonzero()"
   ]
  },
  {
   "cell_type": "code",
   "execution_count": 86,
   "metadata": {},
   "outputs": [
    {
     "data": {
      "text/plain": [
       "0.974025974025974"
      ]
     },
     "execution_count": 86,
     "metadata": {},
     "output_type": "execute_result"
    }
   ],
   "source": [
    "(reddit.labels[1] == reddit.labels[list(nx_reddit.neighbors(1))]).mean()"
   ]
  },
  {
   "cell_type": "code",
   "execution_count": 111,
   "metadata": {},
   "outputs": [],
   "source": [
    "def neighbor_same_label_dglgraph(graph: dgl.DGLGraph, train_mask: np.array, labels: np.array):\n",
    "    train_nodes = np.nonzero(train_mask)[0]\n",
    "    same_label_neib_percentage = {}\n",
    "    for node in tqdm(train_nodes):\n",
    "        neibs = list(graph.successors(node))\n",
    "        same_label_neib_percentage[node] = ((labels[node]==labels[neibs]).mean(), len(neibs))\n",
    "    return same_label_neib_percentage\n",
    "\n"
   ]
  },
  {
   "cell_type": "code",
   "execution_count": 25,
   "metadata": {},
   "outputs": [
    {
     "name": "stderr",
     "output_type": "stream",
     "text": [
      "100%|██████████| 153431/153431 [05:06<00:00, 500.15it/s]\n"
     ]
    }
   ],
   "source": [
    "from tqdm import tqdm\n",
    "percent = neighbor_same_label_dglgraph(graph, reddit.train_mask, reddit.labels)"
   ]
  },
  {
   "cell_type": "code",
   "execution_count": 26,
   "metadata": {},
   "outputs": [],
   "source": [
    "from operator import itemgetter\n",
    "value = np.array(list((percent.values())))"
   ]
  },
  {
   "cell_type": "code",
   "execution_count": 31,
   "metadata": {},
   "outputs": [
    {
     "data": {
      "text/plain": [
       "0.0"
      ]
     },
     "execution_count": 31,
     "metadata": {},
     "output_type": "execute_result"
    }
   ],
   "source": [
    "value[:,0].min()"
   ]
  },
  {
   "cell_type": "code",
   "execution_count": 100,
   "metadata": {},
   "outputs": [
    {
     "ename": "IndexError",
     "evalue": "only integers, slices (`:`), ellipsis (`...`), numpy.newaxis (`None`) and integer or boolean arrays are valid indices",
     "output_type": "error",
     "traceback": [
      "\u001b[0;31m---------------------------------------------------------------------------\u001b[0m",
      "\u001b[0;31mIndexError\u001b[0m                                Traceback (most recent call last)",
      "\u001b[0;32m<ipython-input-100-755fc8362c3d>\u001b[0m in \u001b[0;36m<module>\u001b[0;34m\u001b[0m\n\u001b[1;32m      3\u001b[0m \u001b[0mneibs\u001b[0m \u001b[0;34m=\u001b[0m \u001b[0mnx_reddit\u001b[0m\u001b[0;34m.\u001b[0m\u001b[0mneighbors\u001b[0m\u001b[0;34m(\u001b[0m\u001b[0mnode\u001b[0m\u001b[0;34m)\u001b[0m\u001b[0;34m\u001b[0m\u001b[0;34m\u001b[0m\u001b[0m\n\u001b[1;32m      4\u001b[0m \u001b[0;34m\u001b[0m\u001b[0m\n\u001b[0;32m----> 5\u001b[0;31m \u001b[0;34m(\u001b[0m\u001b[0mlabels\u001b[0m\u001b[0;34m[\u001b[0m\u001b[0mnode\u001b[0m\u001b[0;34m]\u001b[0m\u001b[0;34m==\u001b[0m\u001b[0mlabels\u001b[0m\u001b[0;34m[\u001b[0m\u001b[0mneibs\u001b[0m\u001b[0;34m]\u001b[0m\u001b[0;34m)\u001b[0m\u001b[0;34m.\u001b[0m\u001b[0mmean\u001b[0m\u001b[0;34m(\u001b[0m\u001b[0;34m)\u001b[0m\u001b[0;34m\u001b[0m\u001b[0;34m\u001b[0m\u001b[0m\n\u001b[0m",
      "\u001b[0;31mIndexError\u001b[0m: only integers, slices (`:`), ellipsis (`...`), numpy.newaxis (`None`) and integer or boolean arrays are valid indices"
     ]
    }
   ],
   "source": [
    "labels = reddit.labels\n",
    "node = 1\n",
    "neibs = nx_reddit.neighbors(node)\n",
    "\n",
    "(labels[node]==labels[neibs]).mean()"
   ]
  },
  {
   "cell_type": "code",
   "execution_count": 39,
   "metadata": {},
   "outputs": [
    {
     "name": "stdout",
     "output_type": "stream",
     "text": [
      "INFO:tensorflow:Removed 0 nodes that lacked proper annotations due to networkx versioning issues\n"
     ]
    }
   ],
   "source": [
    "import tensorflow as tf\n",
    "import numpy as np\n",
    "import time\n",
    "import json\n",
    "from tensorflow import gfile\n",
    "from networkx.readwrite import json_graph\n",
    "\n",
    "dataset_path, dataset_str = '/yushi/dataset/', 'Amazon2M'\n",
    "\n",
    "\"\"\"Load GraphSAGE data.\"\"\"\n",
    "start_time = time.time()\n",
    "\n",
    "graph_json = json.load(\n",
    "  gfile.Open('{}/{}/{}-G.json'.format(dataset_path, dataset_str,\n",
    "                                      dataset_str)))\n",
    "graph_nx = json_graph.node_link_graph(graph_json)\n",
    "\n",
    "id_map = json.load(\n",
    "  gfile.Open('{}/{}/{}-id_map.json'.format(dataset_path, dataset_str,\n",
    "                                           dataset_str)))\n",
    "is_digit = list(id_map.keys())[0].isdigit()\n",
    "id_map = {(int(k) if is_digit else k): int(v) for k, v in id_map.items()}\n",
    "class_map = json.load(\n",
    "  gfile.Open('{}/{}/{}-class_map.json'.format(dataset_path, dataset_str,\n",
    "                                              dataset_str)))\n",
    "\n",
    "is_instance = isinstance(list(class_map.values())[0], list)\n",
    "class_map = {(int(k) if is_digit else k): (v if is_instance else int(v))\n",
    "           for k, v in class_map.items()}\n",
    "\n",
    "broken_count = 0\n",
    "to_remove = []\n",
    "for node in graph_nx.nodes():\n",
    "    if node not in id_map:\n",
    "        to_remove.append(node)\n",
    "        broken_count += 1\n",
    "for node in to_remove:\n",
    "    graph_nx.remove_node(node)\n",
    "tf.logging.info(\n",
    "  'Removed %d nodes that lacked proper annotations due to networkx versioning issues',\n",
    "  broken_count)"
   ]
  },
  {
   "cell_type": "code",
   "execution_count": 48,
   "metadata": {},
   "outputs": [],
   "source": [
    "feats = np.load(\n",
    "  gfile.Open(\n",
    "      '{}/{}/{}-feats.npy'.format(dataset_path, dataset_str, dataset_str),\n",
    "      'rb')).astype(np.float32)"
   ]
  },
  {
   "cell_type": "code",
   "execution_count": 50,
   "metadata": {},
   "outputs": [],
   "source": [
    "val_data = np.array(\n",
    "  [id_map[n] for n in graph_nx.nodes() if graph_nx.nodes[n]['val']],\n",
    "  dtype=np.int32)\n",
    "test_data = np.array(\n",
    "  [id_map[n] for n in graph_nx.nodes() if graph_nx.nodes[n]['test']],\n",
    "  dtype=np.int32)"
   ]
  },
  {
   "cell_type": "code",
   "execution_count": 77,
   "metadata": {},
   "outputs": [],
   "source": [
    "# Process labels\n",
    "if isinstance(list(class_map.values())[0], list):\n",
    "    num_classes = len(list(class_map.values())[0])\n",
    "    labels = np.zeros((num_data, num_classes), dtype=np.float32)\n",
    "    for k in class_map.keys():\n",
    "        labels[id_map[k], :] = np.array(class_map[k])\n",
    "else:\n",
    "    num_classes = len(set(class_map.values()))\n",
    "    labels = np.zeros((num_data, num_classes), dtype=np.float32)\n",
    "for k in class_map.keys():\n",
    "    labels[id_map[k], class_map[k]] = 1"
   ]
  },
  {
   "cell_type": "code",
   "execution_count": 53,
   "metadata": {},
   "outputs": [],
   "source": [
    "test_data.shape"
   ]
  },
  {
   "cell_type": "code",
   "execution_count": 58,
   "metadata": {},
   "outputs": [],
   "source": [
    "edges = []\n",
    "for edge in graph_nx.edges():\n",
    "    if edge[0] in id_map and edge[1] in id_map:\n",
    "        edges.append((id_map[edge[0]], id_map[edge[1]]))\n",
    "num_data = len(id_map)"
   ]
  },
  {
   "cell_type": "code",
   "execution_count": 59,
   "metadata": {},
   "outputs": [],
   "source": [
    "is_train = np.ones((num_data), dtype=np.bool)\n",
    "is_train[val_data] = False\n",
    "is_train[test_data] = False\n",
    "train_data = np.array([n for n in range(num_data) if is_train[n]],dtype=np.int32)"
   ]
  },
  {
   "cell_type": "code",
   "execution_count": 62,
   "metadata": {},
   "outputs": [
    {
     "data": {
      "text/plain": [
       "array([1709987, 1709988, 1709989, 1709990, 1709991, 1709992, 1709993,\n",
       "       1709994, 1709995, 1709996], dtype=int32)"
      ]
     },
     "execution_count": 62,
     "metadata": {},
     "output_type": "execute_result"
    }
   ],
   "source": [
    "train_data[-10:]"
   ]
  },
  {
   "cell_type": "code",
   "execution_count": 67,
   "metadata": {},
   "outputs": [
    {
     "ename": "AttributeError",
     "evalue": "'tuple' object has no attribute 'values'",
     "output_type": "error",
     "traceback": [
      "\u001b[0;31m---------------------------------------------------------------------------\u001b[0m",
      "\u001b[0;31mAttributeError\u001b[0m                            Traceback (most recent call last)",
      "\u001b[0;32m<ipython-input-67-7457048a3486>\u001b[0m in \u001b[0;36m<module>\u001b[0;34m\u001b[0m\n\u001b[0;32m----> 1\u001b[0;31m \u001b[0mnp\u001b[0m\u001b[0;34m.\u001b[0m\u001b[0mmax\u001b[0m\u001b[0;34m(\u001b[0m\u001b[0mtuple\u001b[0m\u001b[0;34m(\u001b[0m\u001b[0mgraph_nx\u001b[0m\u001b[0;34m.\u001b[0m\u001b[0mdegree\u001b[0m\u001b[0;34m)\u001b[0m\u001b[0;34m.\u001b[0m\u001b[0mvalues\u001b[0m\u001b[0;34m(\u001b[0m\u001b[0;34m)\u001b[0m\u001b[0;34m)\u001b[0m\u001b[0;34m\u001b[0m\u001b[0;34m\u001b[0m\u001b[0m\n\u001b[0m",
      "\u001b[0;31mAttributeError\u001b[0m: 'tuple' object has no attribute 'values'"
     ]
    }
   ],
   "source": [
    "np.max(tuple(graph_nx.degree).values())"
   ]
  },
  {
   "cell_type": "code",
   "execution_count": 69,
   "metadata": {},
   "outputs": [],
   "source": [
    "amazon_graph_degree = dict(graph_nx.degree)"
   ]
  },
  {
   "cell_type": "code",
   "execution_count": 102,
   "metadata": {},
   "outputs": [],
   "source": [
    "train_mask = np.zeros((num_data))"
   ]
  },
  {
   "cell_type": "code",
   "execution_count": 94,
   "metadata": {},
   "outputs": [
    {
     "data": {
      "text/plain": [
       "array([0., 0., 0., ..., 0., 0., 0.])"
      ]
     },
     "execution_count": 94,
     "metadata": {},
     "output_type": "execute_result"
    }
   ],
   "source": []
  },
  {
   "cell_type": "code",
   "execution_count": 73,
   "metadata": {},
   "outputs": [],
   "source": [
    "def graph_degree(graph: nx.Graph):\n",
    "    '''\n",
    "    @param graph: networkx graph\n",
    "    '''\n",
    "    if type(graph) is nx.DiGraph:\n",
    "        graph = graph.to_undirected()    \n",
    "    degree = dict(graph.degree)\n",
    "    return {\n",
    "        'max_deg': max(degree.values()),\n",
    "        'avg_deg': np.mean(tuple(degree.values())),\n",
    "        'min_deg': min(degree.values())\n",
    "    }"
   ]
  },
  {
   "cell_type": "code",
   "execution_count": 74,
   "metadata": {},
   "outputs": [
    {
     "data": {
      "text/plain": [
       "{'max_deg': 17481, 'avg_deg': 50.517278480573324, 'min_deg': 0}"
      ]
     },
     "execution_count": 74,
     "metadata": {},
     "output_type": "execute_result"
    }
   ],
   "source": [
    "graph_degree(graph_nx)"
   ]
  },
  {
   "cell_type": "code",
   "execution_count": null,
   "metadata": {},
   "outputs": [],
   "source": [
    "neighbor_same_label_nxgraph()"
   ]
  },
  {
   "cell_type": "code",
   "execution_count": 104,
   "metadata": {},
   "outputs": [],
   "source": [
    "logit_label = np.where(labels)"
   ]
  },
  {
   "cell_type": "code",
   "execution_count": 105,
   "metadata": {},
   "outputs": [
    {
     "data": {
      "text/plain": [
       "array([      0,       1,       2, ..., 2449026, 2449027, 2449028])"
      ]
     },
     "execution_count": 105,
     "metadata": {},
     "output_type": "execute_result"
    }
   ],
   "source": [
    "logit_label[0]"
   ]
  },
  {
   "cell_type": "code",
   "execution_count": 106,
   "metadata": {},
   "outputs": [],
   "source": [
    "train_mask[logit_label[0]] = 1"
   ]
  },
  {
   "cell_type": "code",
   "execution_count": 110,
   "metadata": {},
   "outputs": [],
   "source": [
    "train_mask.sum()"
   ]
  },
  {
   "cell_type": "code",
   "execution_count": 118,
   "metadata": {},
   "outputs": [],
   "source": [
    "def neighbor_same_label_nxgraph(graph: nx.Graph, train_mask: np.array, labels: np.array):\n",
    "    \"\"\"!\n",
    "    :param graph: networkx graph\n",
    "    \"\"\"\n",
    "    train_nodes = np.nonzero(train_mask)[0]\n",
    "    same_label_neib_percentage = {}\n",
    "    for node in tqdm(train_nodes):\n",
    "        neibs = list(graph.neighbors(node))\n",
    "#         print(neibs)\n",
    "        same_label_neib_percentage[node] = ((labels[node]==labels[neibs]).mean(), len(neibs))\n",
    "    return same_label_neib_percentage"
   ]
  },
  {
   "cell_type": "code",
   "execution_count": 1,
   "metadata": {},
   "outputs": [],
   "source": [
    "# percent = neighbor_same_label_nxgraph(graph_nx, train_mask, logit_label[1])"
   ]
  },
  {
   "cell_type": "code",
   "execution_count": 116,
   "metadata": {},
   "outputs": [
    {
     "data": {
      "text/plain": [
       "(array([      0,       1,       2, ..., 2449026, 2449027, 2449028]),\n",
       " array([ 0,  1,  2, ...,  3, 18,  3]))"
      ]
     },
     "execution_count": 116,
     "metadata": {},
     "output_type": "execute_result"
    }
   ],
   "source": [
    "logit_label"
   ]
  },
  {
   "cell_type": "code",
   "execution_count": 120,
   "metadata": {},
   "outputs": [],
   "source": [
    "value = np.array(list((percent.values())))"
   ]
  },
  {
   "cell_type": "code",
   "execution_count": 132,
   "metadata": {},
   "outputs": [
    {
     "data": {
      "text/plain": [
       "1.0"
      ]
     },
     "execution_count": 132,
     "metadata": {},
     "output_type": "execute_result"
    }
   ],
   "source": [
    "np.nanmax( value[:,0])"
   ]
  },
  {
   "cell_type": "code",
   "execution_count": 11,
   "metadata": {},
   "outputs": [],
   "source": [
    "def bfs_queue(graph: nx.Graph, root, max_level=3, level=0):\n",
    "    import collections\n",
    "    queue, res = collections.deque([(root, 0)]), []\n",
    "    nodes = set(res)\n",
    "    while queue:\n",
    "        node, level = queue.popleft()\n",
    "        if level > max_level:\n",
    "            break\n",
    "        if node not in nodes:\n",
    "            nodes.update([node])\n",
    "            if len(res) < level+1:\n",
    "                res.insert(level, [])\n",
    "            res[level].append(node)\n",
    "        for neighbor in list(graph[node]):\n",
    "            try:\n",
    "                if neighbor not in sum(res,[]):\n",
    "                    queue.append([neighbor, level+1])\n",
    "            except:\n",
    "                import pdb; pdb.set_trace()\n",
    "    return res, list(nodes)\n",
    "\n",
    "def statistics(graph, nodes, level=6):\n",
    "    from texttable import Texttable\n",
    "    from tqdm import tqdm\n",
    "    table = Texttable()\n",
    "    table.set_deco(Texttable.HEADER)\n",
    "    results = {}\n",
    "#     table.set_cols_dtype(['t',  # text\n",
    "#                               'f',  # float (decimal)\n",
    "#                               'e',  # float (exponent)\n",
    "#                               'i',  # integer\n",
    "#                               'a']) # automatic\n",
    "    stat = [['Node']]\n",
    "    stat[0].extend([f'{i}-hop' for i in range(1,level+1)])\n",
    "    for node in tqdm(nodes):\n",
    "        res, nodes = bfs_queue(graph, node, level)\n",
    "        row = [node]\n",
    "        for hop in range(1, level+1):\n",
    "            if len(res) < hop+1:\n",
    "                row.append(0)\n",
    "            else:\n",
    "                row.append(len(res[hop]))\n",
    "        stat.append(row)\n",
    "        results[node] = (res, nodes)\n",
    "    table.add_rows(stat)\n",
    "    print(table.draw())\n",
    "    return results  \n",
    "def get_colors(label_number: int, mode: str):\n",
    "    import randomcolor\n",
    "    rand_color = randomcolor.RandomColor()\n",
    "    if mode == 'diff':\n",
    "        colors = {'train': 'grey', 'pred_train': 'green', 'pred_false': 'r'}\n",
    "    elif mode == 'raw':\n",
    "        colors = dict([(i, j) for i, j in enumerate(\n",
    "            rand_color.generate(count=label_number))])\n",
    "    elif mode == 'train_test':\n",
    "        colors = {'train': 'grey', 'test': 'black'}\n",
    "    elif mode == 'error':\n",
    "        colors = dict([(i, j) for i, j in enumerate(\n",
    "            rand_color.generate(count=label_number))])\n",
    "        colors.update({'root': 'black'})\n",
    "    else:\n",
    "        raise NotImplementedError\n",
    "    return colors\n",
    "\n",
    "from typing import Dict, Tuple, List, Sequence, Optional\n",
    "def get_node_pos(labels: Optional[np.ndarray] = None, sg_nodes: List = None, idx_test: Optional[List] = None, mode='raw', predict: Optional[np.ndarray] = None) -> Dict:\n",
    "    '''\n",
    "    1. get the whole graph: raw\n",
    "    2. train and test node\n",
    "    3. right and wrong node\n",
    "    '''\n",
    "    if type(labels) is torch.Tensor:\n",
    "        labels = labels.cpu().numpy()\n",
    "    if type(predict) is torch.Tensor:\n",
    "        predict = predict.cpu().numpy()\n",
    "\n",
    "    node_pos = {}\n",
    "    # np.argwhere(labels == label).flatten().tolist()})\n",
    "    if mode == 'raw':\n",
    "        if sg_nodes is not None:\n",
    "            for label in set(labels[sg_nodes]):\n",
    "                node_pos.update(\n",
    "                    {label: [node for node in sg_nodes if labels[node] == label]})\n",
    "        else:\n",
    "            for label in set(labels):\n",
    "                node_pos.update(\n",
    "                    {label: np.argwhere(labels == label).flatten().tolist()})\n",
    "    elif mode == 'error':\n",
    "        root = sg_nodes[0]\n",
    "        for label in set(labels[sg_nodes]):\n",
    "            node_pos.update(\n",
    "                {label: [node for node in sg_nodes if labels[node] == label]})\n",
    "        print(node_pos)\n",
    "        node_pos.update({'root': [root]})\n",
    "                            \n",
    "    elif mode == 'train_test':\n",
    "        assert idx_test is not None and sg_nodes is not None\n",
    "        test_sg_nodes = list(set(sg_nodes).intersection(idx_test))\n",
    "        train_sg_nodes = list(set(sg_nodes).difference(test_sg_nodes))\n",
    "        node_pos.update({'train': train_sg_nodes, 'test': test_sg_nodes})\n",
    "        pass\n",
    "\n",
    "    elif mode == 'diff':\n",
    "        assert predict is not None and sg_nodes is not None and idx_test is not None\n",
    "        test_sg_nodes = list(set(sg_nodes).intersection(idx_test))\n",
    "        train_sg_nodes = list(set(sg_nodes).difference(test_sg_nodes))\n",
    "        true = list(set(idx_test[np.argwhere(\n",
    "            labels[idx_test] == predict).flatten().tolist()]).intersection(test_sg_nodes))\n",
    "        false = list(set(test_sg_nodes).difference(true))\n",
    "        node_pos.update(\n",
    "            {'train': train_sg_nodes, 'pred_true': true, 'pred_false': false})\n",
    "\n",
    "    else:\n",
    "        raise NotImplementedError(f'mode: {mode} unrecognized')\n",
    "\n",
    "    return node_pos\n",
    "\n",
    "def plot_cluster(graph, node_pos, colors, pos, options={\"node_size\": 40, \"alpha\": 0.8},  figsize=(8, 6), spring_k=0.15, labels=None, border_edge_list=None):\n",
    "    from matplotlib.pyplot import figure\n",
    "    figure(num=None, figsize=figsize, dpi=150, facecolor='w', edgecolor='k')\n",
    "    for node_label in node_pos:\n",
    "        nx.draw_networkx_nodes(\n",
    "            graph, pos, nodelist=node_pos[node_label], node_color=colors[node_label], **options)\n",
    "    nx.draw_networkx_edges(graph, pos, width=0.2, alpha=0.5)\n",
    "    if labels is not None:\n",
    "        nx.draw_networkx_labels(graph, pos, labels, font_size=5)\n",
    "    if border_edge_list:\n",
    "        nx.draw_networkx_edges(graph,pos,edgelist=border_edge_list,width=1,alpha=0.5,edge_color=\"b\")\n",
    "def get_1hop_neighbors_edges(adj, node):\n",
    "    res = np.argwhere(adj[node]).flatten().tolist()\n",
    "    res.remove(node)\n",
    "    edge_list = [(node, i) for i in res]\n",
    "    return res, edge_list\n",
    "def one_hop_n_class(node, labels, adj):\n",
    "    one_hop_n = np.argwhere(ori_adj[node]).flatten().tolist()\n",
    "    neighbor_class = {i:labels[i] for i in one_hop_n}\n",
    "    node_label = labels[node]\n",
    "    from collections import Counter\n",
    "    count = Counter(labels[one_hop_n])\n",
    "    length = list(count.elements()).__len__()\n",
    "    for ele in count:\n",
    "        count[ele] = f'{count[ele]/length*100:.1f}%'\n",
    "    return str(count), neighbor_class"
   ]
  },
  {
   "cell_type": "code",
   "execution_count": null,
   "metadata": {},
   "outputs": [],
   "source": []
  }
 ],
 "metadata": {
  "kernelspec": {
   "display_name": "Python 3",
   "language": "python",
   "name": "python3"
  },
  "language_info": {
   "codemirror_mode": {
    "name": "ipython",
    "version": 3
   },
   "file_extension": ".py",
   "mimetype": "text/x-python",
   "name": "python",
   "nbconvert_exporter": "python",
   "pygments_lexer": "ipython3",
   "version": "3.7.6"
  }
 },
 "nbformat": 4,
 "nbformat_minor": 4
}
